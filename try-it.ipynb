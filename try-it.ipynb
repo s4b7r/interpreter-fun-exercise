{
 "cells": [
  {
   "cell_type": "code",
   "execution_count": 5,
   "metadata": {},
   "outputs": [],
   "source": [
    "from main import parse_arithmetic_statement\n",
    "from pprint import pprint"
   ]
  },
  {
   "cell_type": "code",
   "execution_count": 7,
   "metadata": {},
   "outputs": [
    {
     "name": "stdout",
     "output_type": "stream",
     "text": [
      "{'next': {'next': {'next': '1',\n",
      "                   'op': '+',\n",
      "                   'prev': {'next': '4', 'op': '^', 'prev': '3'}},\n",
      "          'op': '*',\n",
      "          'prev': '2'},\n",
      " 'op': '+',\n",
      " 'prev': {'next': '1', 'op': '1'}}\n"
     ]
    }
   ],
   "source": [
    "pprint(parse_arithmetic_statement('1+2*3^4+1'))"
   ]
  }
 ],
 "metadata": {
  "kernelspec": {
   "display_name": "jpylab",
   "language": "python",
   "name": "python3"
  },
  "language_info": {
   "codemirror_mode": {
    "name": "ipython",
    "version": 3
   },
   "file_extension": ".py",
   "mimetype": "text/x-python",
   "name": "python",
   "nbconvert_exporter": "python",
   "pygments_lexer": "ipython3",
   "version": "3.9.5"
  }
 },
 "nbformat": 4,
 "nbformat_minor": 2
}
